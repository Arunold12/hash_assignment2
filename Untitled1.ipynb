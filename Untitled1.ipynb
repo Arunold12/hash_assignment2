{
  "nbformat": 4,
  "nbformat_minor": 0,
  "metadata": {
    "colab": {
      "provenance": []
    },
    "kernelspec": {
      "name": "python3",
      "display_name": "Python 3"
    },
    "language_info": {
      "name": "python"
    }
  },
  "cells": [
    {
      "cell_type": "code",
      "source": [
        "import csv\n",
        "import requests\n",
        "import json\n",
        "\n",
        "\n",
        "SOLR_URL = \"http://localhost:8989/solr\"\n",
        "CSV_INPUT_PATH = '/content/Employee_Sample_Data_With_Unique_ID.csv'\n",
        "CLEANED_CSV_OUTPUT_PATH = '/content/Cleaned_Employee_Data.csv'\n",
        "\n",
        "\n",
        "def load_employee_data(file_path):\n",
        "    employee_data = []\n",
        "    with open(file_path, 'r', encoding='ISO-8859-1') as file:\n",
        "        reader = csv.DictReader(file)\n",
        "        employee_data = [row for row in reader]\n",
        "    return employee_data\n",
        "\n",
        "def clean_and_write_data(employee_data):\n",
        "    field_mapping = {\n",
        "        'Employee ID': 'Employee_ID',\n",
        "        'Full Name': 'Full_Name',\n",
        "        'Department': 'Department',\n",
        "        'Gender': 'Gender',\n",
        "        'Annual Salary': 'Annual_Salary',\n",
        "        'id': 'id'\n",
        "    }\n",
        "    cleaned_employee_data = []\n",
        "\n",
        "    for idx, row in enumerate(employee_data):\n",
        "        cleaned_row = {new_field: row[old_field] for old_field, new_field in field_mapping.items() if old_field in row}\n",
        "        cleaned_row['id'] = f\"{cleaned_row['Employee_ID']}_{idx}\"  # Generate unique id\n",
        "        cleaned_employee_data.append(cleaned_row)\n",
        "\n",
        "    with open(CLEANED_CSV_OUTPUT_PATH, 'w', newline='', encoding='ISO-8859-1') as file:\n",
        "        writer = csv.DictWriter(file, fieldnames=field_mapping.values())\n",
        "        writer.writeheader()\n",
        "        writer.writerows(cleaned_employee_data)\n",
        "\n",
        "    print(f\"Cleaned data written to '{CLEANED_CSV_OUTPUT_PATH}'\")\n",
        "\n",
        "\n",
        "def upload_to_solr(collection_name):\n",
        "    url = f'https://805a-103-88-77-182.ngrok-free.app/solr/{collection_name}/update/csv?commit=true'\n",
        "    with open(CLEANED_CSV_OUTPUT_PATH, 'rb') as file:\n",
        "        response = requests.post(url, files={'file': file})\n",
        "    try:\n",
        "        response_json = response.json()\n",
        "        print(response_json)\n",
        "    except ValueError:\n",
        "        print(\"Error decoding JSON: \", response.text)\n",
        "\n",
        "\n",
        "if __name__ == \"__main__\":\n",
        "    employee_data = load_employee_data(CSV_INPUT_PATH)\n",
        "    clean_and_write_data(employee_data)\n",
        "    upload_to_solr('Hash_1468')\n"
      ],
      "metadata": {
        "colab": {
          "base_uri": "https://localhost:8080/"
        },
        "id": "hEAiueIBtjg_",
        "outputId": "384539ed-1cc3-4c23-d868-f9d9b0fa13ea"
      },
      "execution_count": 137,
      "outputs": [
        {
          "output_type": "stream",
          "name": "stdout",
          "text": [
            "Cleaned data written to '/content/Cleaned_Employee_Data.csv'\n",
            "{'responseHeader': {'status': 0, 'QTime': 706}}\n"
          ]
        }
      ]
    },
    {
      "cell_type": "code",
      "source": [
        "\n",
        "def clean_and_write_data(employee_data):\n",
        "    field_mapping = {\n",
        "        'Employee ID': 'Employee_ID',\n",
        "        'Full Name': 'Full_Name',\n",
        "        'Department': 'Department',\n",
        "        'Gender': 'Gender',\n",
        "        'Annual Salary': 'Annual_Salary',\n",
        "    }\n",
        "    cleaned_employee_data = []\n",
        "\n",
        "    for idx, row in enumerate(employee_data):\n",
        "        cleaned_row = {new_field: row[old_field] for old_field, new_field in field_mapping.items() if old_field in row}\n",
        "        cleaned_row['id'] = f\"{cleaned_row['Employee_ID']}_{idx}\"\n",
        "        cleaned_employee_data.append(cleaned_row)\n",
        "\n",
        "    fieldnames = list(field_mapping.values()) + ['id']\n",
        "    with open(CLEANED_CSV_OUTPUT_PATH, 'w', newline='', encoding='ISO-8859-1') as file:\n",
        "        writer = csv.DictWriter(file, fieldnames=fieldnames)\n",
        "        writer.writeheader()\n",
        "        writer.writerows(cleaned_employee_data)\n",
        "\n",
        "    print(f\"Cleaned data written to '{CLEANED_CSV_OUTPUT_PATH}'\")\n"
      ],
      "metadata": {
        "id": "YujmmI2w9IdL"
      },
      "execution_count": 138,
      "outputs": []
    },
    {
      "cell_type": "code",
      "source": [
        "SOLR_URL = \"https://805a-103-88-77-182.ngrok-free.app/solr\"\n",
        "\n",
        "r\n",
        "try:\n",
        "    response = requests.get(SOLR_URL)\n",
        "    print(\"Connection Successful:\", response.status_code)\n",
        "except requests.exceptions.RequestException as e:\n",
        "    print(\"Connection Failed:\", e)"
      ],
      "metadata": {
        "colab": {
          "base_uri": "https://localhost:8080/"
        },
        "id": "J7VufRp1W2d-",
        "outputId": "87507635-e258-4ec3-f722-79688a523a59"
      },
      "execution_count": 139,
      "outputs": [
        {
          "output_type": "stream",
          "name": "stdout",
          "text": [
            "Connection Successful: 200\n"
          ]
        }
      ]
    },
    {
      "cell_type": "code",
      "source": [
        "\n",
        "def createCollection(collection_name):\n",
        "    url = f\"{SOLR_URL}/admin/collections?action=CREATE&name={collection_name}&numShards=1&replicationFactor=1\"\n",
        "    response = requests.get(url)\n",
        "    print(f\"Create Collection Response: {response.json()}\")"
      ],
      "metadata": {
        "id": "YuPVCqG4W6YI"
      },
      "execution_count": 140,
      "outputs": []
    },
    {
      "cell_type": "code",
      "source": [
        "\n",
        "def indexData(collection_name, exclude_column):\n",
        "    employee_data = []\n",
        "    preview_data = []\n",
        "\n",
        "    with open('/content/Employee Sample Data 1.csv', 'r', encoding='ISO-8859-1') as file:\n",
        "        reader = csv.DictReader(file)\n",
        "        for i, row in enumerate(reader):\n",
        "            employee = {key: value for key, value in row.items() if key != exclude_column}\n",
        "            employee_data.append(employee)\n",
        "            if i < 5:\n",
        "                preview_data.append(employee)\n",
        "\n",
        "    print(\"Preview of first five rows of data to be indexed:\")\n",
        "    for row in preview_data:\n",
        "        print(row)\n",
        "\n",
        "\n",
        "    url = f\"{SOLR_URL}/{collection_name}/update?commit=true\"\n",
        "    headers = {'Content-Type': 'application/json'}\n",
        "    response = requests.post(url, headers=headers, data=json.dumps(employee_data))\n",
        "    print(f\"Index Data Response: {response.json()}\")\n"
      ],
      "metadata": {
        "id": "klYbzKmcXBR4"
      },
      "execution_count": 141,
      "outputs": []
    },
    {
      "cell_type": "code",
      "source": [
        "\n",
        "def searchByColumn(collection_name, column_name, column_value):\n",
        "    url = f\"{SOLR_URL}/{collection_name}/select?q={column_name}:{column_value}\"\n",
        "    response = requests.get(url)\n",
        "    print(f\"Search By Column Response: {response.json()}\")"
      ],
      "metadata": {
        "id": "srBDMMnWXFNM"
      },
      "execution_count": 142,
      "outputs": []
    },
    {
      "cell_type": "code",
      "source": [
        "\n",
        "def getEmpCount(collection_name):\n",
        "    url = f\"{SOLR_URL}/{collection_name}/select?q=*:*&rows=0\"\n",
        "    response = requests.get(url)\n",
        "    count = response.json()['response']['numFound']\n",
        "    print(f\"Employee Count: {count}\")\n",
        "    return count"
      ],
      "metadata": {
        "id": "KpGX7E5BXJLy"
      },
      "execution_count": 143,
      "outputs": []
    },
    {
      "cell_type": "code",
      "source": [
        "\n",
        "def delEmpById(collection_name, employee_id):\n",
        "    url = f\"{SOLR_URL}/{collection_name}/update?commit=true\"\n",
        "    data = f'<delete><id>{employee_id}</id></delete>'\n",
        "    headers = {'Content-Type': 'text/xml'}\n",
        "    response = requests.post(url, headers=headers, data=data)\n",
        "    print(f\"Delete Employee Response: {response.json()}\")\n"
      ],
      "metadata": {
        "id": "h_GGm-nrXLpZ"
      },
      "execution_count": 144,
      "outputs": []
    },
    {
      "cell_type": "code",
      "source": [
        "\n",
        "def getDepFacet(collection_name):\n",
        "    url = f\"{SOLR_URL}/{collection_name}/select?q=*:*&facet=true&facet.field=Department\"\n",
        "    response = requests.get(url)\n",
        "    print(f\"Department Facet Response: {response.json()}\")\n"
      ],
      "metadata": {
        "id": "HIka6NauXOIk"
      },
      "execution_count": 145,
      "outputs": []
    },
    {
      "cell_type": "code",
      "source": [
        "def createCore(core_name):\n",
        "    url = f\"{SOLR_URL}/admin/cores?action=CREATE&name={core_name}\"\n",
        "    response = requests.get(url)\n",
        "    try:\n",
        "        response_json = response.json()\n",
        "        print(f\"Create Core Response: {response_json}\")\n",
        "    except json.JSONDecodeError:\n",
        "        print(\"Failed to decode JSON response:\", response.text)\n",
        "\n",
        "def getEmpCount(collection_name):\n",
        "    url = f\"{SOLR_URL}/{collection_name}/select?q=*:*&rows=0\"\n",
        "    response = requests.get(url)\n",
        "    try:\n",
        "        count = response.json()['response']['numFound']\n",
        "        print(f\"Employee Count: {count}\")\n",
        "        return count\n",
        "    except KeyError:\n",
        "        print(f\"Error retrieving employee count for {collection_name}: {response.text}\")\n",
        "        return 0\n",
        "\n",
        "\n"
      ],
      "metadata": {
        "id": "TSHSzy7qXRK6"
      },
      "execution_count": 146,
      "outputs": []
    },
    {
      "cell_type": "code",
      "source": [
        "import csv\n",
        "with open('/content/Employee_Sample_Data_With_Unique_ID.csv', 'r', encoding='ISO-8859-1') as file:\n",
        "    reader = csv.reader(file)\n",
        "    header = next(reader)\n",
        "    print(\"CSV Header:\", header)\n",
        "\n",
        "    first_row = next(reader)\n",
        "    print(\"First row of data:\", first_row)\n"
      ],
      "metadata": {
        "colab": {
          "base_uri": "https://localhost:8080/"
        },
        "id": "trc3swkrmKJ8",
        "outputId": "31bcc937-12df-4f82-9bb2-e8d306f3d438"
      },
      "execution_count": 147,
      "outputs": [
        {
          "output_type": "stream",
          "name": "stdout",
          "text": [
            "CSV Header: ['id', 'Employee ID', 'Full Name', 'Job Title', 'Department', 'Business Unit', 'Gender', 'Ethnicity', 'Age', 'Hire Date', 'Annual Salary', 'Bonus %', 'Country', 'City', 'Exit Date', 'id']\n",
            "First row of data: ['E02002_0', 'E02002', 'Kai Le', 'Controls Engineer', 'Engineering', 'Manufacturing', 'Male', 'Asian', '47', '2/5/2022', '$92,368 ', '0%', 'United States', 'Columbus', '', 'E02002_0']\n"
          ]
        }
      ]
    },
    {
      "cell_type": "code",
      "source": [
        "import requests\n",
        "\n",
        "response = requests.post('https://805a-103-88-77-182.ngrok-free.app/solr/Hash_1468/update/csv', files={'file': open('Cleaned_Employee_Data.csv', 'rb')})\n",
        "try:\n",
        "    response_json = response.json()\n",
        "    print(response_json)\n",
        "except ValueError:\n",
        "    print(\"Error decoding JSON: \", response.text)"
      ],
      "metadata": {
        "colab": {
          "base_uri": "https://localhost:8080/"
        },
        "id": "7zqT8iZCrxrr",
        "outputId": "92e26201-7020-4657-ad6a-e49a7a1cd7f3"
      },
      "execution_count": 148,
      "outputs": [
        {
          "output_type": "stream",
          "name": "stdout",
          "text": [
            "{'responseHeader': {'status': 0, 'QTime': 447}}\n"
          ]
        }
      ]
    },
    {
      "cell_type": "code",
      "source": [
        "import requests\n",
        "\n",
        "def solr_admin_request(method, endpoint):\n",
        "    url = f\"https://805a-103-88-77-182.ngrok-free.app/solr{endpoint}\"\n",
        "    if method == \"GET\":\n",
        "        response = requests.get(url)\n",
        "    elif method == \"POST\":\n",
        "        response = requests.post(url)\n",
        "    else:\n",
        "        raise ValueError(\"Unsupported method\")\n",
        "\n",
        "\n",
        "    response.raise_for_status()\n",
        "    return response.json()\n",
        "\n",
        "def checkCoreExists(core_name):\n",
        "    response = solr_admin_request(\"GET\", \"/admin/cores?action=STATUS\")\n",
        "    return core_name in response['status']\n",
        "\n",
        "def createCore(core_name):\n",
        "    solr_admin_request(\"GET\", f\"/admin/cores?action=CREATE&name={core_name}\")\n",
        "def deleteCore(core_name):\n",
        "    solr_admin_request(\"GET\", f\"/admin/cores?action=UNLOAD&core={core_name}&deleteIndex=true\")\n",
        "if __name__ == \"__main__\":\n",
        "    v_nameCollection = 'Hash_Arunold'\n",
        "    v_phoneCollection = 'Hash_1468'\n",
        "\n",
        "\n",
        "    if not checkCoreExists(v_nameCollection):\n",
        "        createCore(v_nameCollection)\n",
        "    else:\n",
        "        print(f\"Core '{v_nameCollection}' already exists.\")\n",
        "\n",
        "    if not checkCoreExists(v_phoneCollection):\n",
        "        createCore(v_phoneCollection)\n",
        "    else:\n",
        "        print(f\"Core '{v_phoneCollection}' already exists.\")\n",
        "\n",
        "\n"
      ],
      "metadata": {
        "colab": {
          "base_uri": "https://localhost:8080/"
        },
        "id": "524cSDX5XWMX",
        "outputId": "7b0e28cd-0ce3-4a43-be78-cf00de3f62d4"
      },
      "execution_count": 166,
      "outputs": [
        {
          "output_type": "stream",
          "name": "stdout",
          "text": [
            "Core 'Hash_Arunold' already exists.\n",
            "Core 'Hash_1468' already exists.\n"
          ]
        }
      ]
    },
    {
      "cell_type": "code",
      "source": [
        "def getEmpCount(core_name):\n",
        "    response = solr_admin_request(\"GET\", f\"/{core_name}/select?q=*:*&rows=0\")\n",
        "    return response['response']['numFound']\n",
        "\n",
        "if __name__ == \"__main__\":\n",
        "\n",
        "    emp_count_name = getEmpCount(v_nameCollection)\n",
        "    print(f\"Employee count in '{v_nameCollection}': {emp_count_name}\")\n",
        "\n",
        "    emp_count_phone = getEmpCount(v_phoneCollection)\n",
        "    print(f\"Employee count in '{v_phoneCollection}': {emp_count_phone}\")\n"
      ],
      "metadata": {
        "colab": {
          "base_uri": "https://localhost:8080/"
        },
        "id": "rU6FVPXZB1TR",
        "outputId": "fd2980ad-bd45-4112-89ee-938f2ee0d44a"
      },
      "execution_count": 167,
      "outputs": [
        {
          "output_type": "stream",
          "name": "stdout",
          "text": [
            "Employee count in 'Hash_Arunold': 0\n",
            "Employee count in 'Hash_1468': 1264\n"
          ]
        }
      ]
    },
    {
      "cell_type": "code",
      "source": [
        "def indexEmployeeData(core_name, employee_data):\n",
        "\n",
        "    solr_data = {\"add\": {\"doc\": employee_data}}\n",
        "    try:\n",
        "        response = solr_admin_request(\"POST\", f\"/{core_name}/update?commit=true\", json=solr_data)\n",
        "        return response\n",
        "    except requests.exceptions.HTTPError as e:\n",
        "        print(\"HTTP Error:\", e.response.text)\n",
        "        return None\n",
        "\n",
        "employee_data = {\n",
        "    \"id\": \"E02007\",\n",
        "    \"employee_id\": \"E02007\",\n",
        "    \"full_name\": \"John Doe\",\n",
        "    \"job_title\": \"Developer\",\n",
        "    \"department\": \"Engineering\",\n",
        "    \"business_unit\": \"Tech\",\n",
        "    \"gender\": \"Male\",\n",
        "    \"ethnicity\": \"Asian\",\n",
        "    \"age\": 30,\n",
        "    \"hire_date\": \"2021-01-15T00:00:00Z\",\n",
        "    \"annual_salary\": 80000.0,\n",
        "    \"bonus_percent\": 10.0,\n",
        "    \"country\": \"USA\",\n",
        "    \"city\": \"New York\",\n",
        "    \"exit_date\": None,\n",
        "\n",
        "\n",
        "response = indexEmployeeData(v_nameCollection, employee_data)\n",
        "if response:\n",
        "    print(\"Data indexed successfully:\", response)\n"
      ],
      "metadata": {
        "colab": {
          "base_uri": "https://localhost:8080/"
        },
        "id": "nQjDBapiZbh4",
        "outputId": "d23ce0b5-9610-431b-f4a9-1aaf7fe02d83"
      },
      "execution_count": 184,
      "outputs": [
        {
          "output_type": "stream",
          "name": "stdout",
          "text": [
            "Data indexed successfully: {'responseHeader': {'status': 0, 'QTime': 1963}}\n"
          ]
        }
      ]
    },
    {
      "cell_type": "code",
      "source": [
        "def searchSolr(core_name, query, rows=10):\n",
        "    response = solr_admin_request(\"GET\", f\"/{core_name}/select?q={query}&rows={rows}\")\n",
        "    return response\n",
        "\n",
        "search_query = \"full_name:John Doe\"\n",
        "try:\n",
        "    search_results = searchSolr(v_nameCollection, search_query)\n",
        "    print(\"Search Results:\", search_results)\n",
        "except requests.exceptions.HTTPError as e:\n",
        "    print(\"HTTP Error:\", e.response.text)\n"
      ],
      "metadata": {
        "colab": {
          "base_uri": "https://localhost:8080/"
        },
        "id": "ZCSrTX-YaGxH",
        "outputId": "0de17db3-8e92-4b2f-a0b2-fa6a7719f9f8"
      },
      "execution_count": 185,
      "outputs": [
        {
          "output_type": "stream",
          "name": "stdout",
          "text": [
            "Search Results: {'responseHeader': {'status': 0, 'QTime': 45, 'params': {'q': 'full_name:John Doe', 'rows': '10'}}, 'response': {'numFound': 0, 'start': 0, 'numFoundExact': True, 'docs': []}}\n"
          ]
        }
      ]
    },
    {
      "cell_type": "code",
      "source": [
        "def getDocumentById(core_name, doc_id):\n",
        "    response = solr_admin_request(\"GET\", f\"/{core_name}/select?q=id:{doc_id}\")\n",
        "    return response\n",
        "\n",
        "doc_id = \"E02007\"\n",
        "try:\n",
        "    document = getDocumentById(v_nameCollection, doc_id)\n",
        "    print(\"Retrieved Document:\", document)\n",
        "except requests.exceptions.HTTPError as e:\n",
        "    print(\"HTTP Error:\", e.response.text)\n"
      ],
      "metadata": {
        "colab": {
          "base_uri": "https://localhost:8080/"
        },
        "id": "Eeqb0J-OlPvV",
        "outputId": "00c5c7c6-fcd5-420a-bc24-dc2197e32bcc"
      },
      "execution_count": 186,
      "outputs": [
        {
          "output_type": "stream",
          "name": "stdout",
          "text": [
            "Retrieved Document: {'responseHeader': {'status': 0, 'QTime': 34, 'params': {'q': 'id:E02007'}}, 'response': {'numFound': 1, 'start': 0, 'numFoundExact': True, 'docs': [{'id': 'E02007', 'employee_id': 'E02007', 'full_name': 'John Doe', 'job_title': 'Developer', 'department': 'Engineering', 'business_unit': 'Tech', 'gender': 'Male', 'ethnicity': 'Asian', 'age': 30, 'hire_date': '2021-01-15T00:00:00Z', 'annual_salary': 80000.0, 'bonus_percent': 10.0, 'country': 'USA', 'city': 'New York', '_version_': 1812550679698341888}]}}\n"
          ]
        }
      ]
    },
    {
      "cell_type": "code",
      "source": [
        "def updateEmployeeData(core_name, employee_data):\n",
        "    solr_data = {\"add\": {\"doc\": employee_data}}\n",
        "    response = solr_admin_request(\"POST\", f\"/{core_name}/update?commit=true\", json=solr_data)\n",
        "    return response\n"
      ],
      "metadata": {
        "id": "ur9Y7emXlWo8"
      },
      "execution_count": 187,
      "outputs": []
    },
    {
      "cell_type": "code",
      "source": [
        "def deleteDocumentById(core_name, doc_id):\n",
        "    solr_data = {\"delete\": {\"id\": doc_id}}\n",
        "    response = solr_admin_request(\"POST\", f\"/{core_name}/update?commit=true\", json=solr_data)\n",
        "    return response\n",
        "\n",
        "try:\n",
        "    delete_response = deleteDocumentById(v_nameCollection, doc_id)\n",
        "    print(\"Document deleted successfully:\", delete_response)\n",
        "except requests.exceptions.HTTPError as e:\n",
        "    print(\"HTTP Error:\", e.response.text)\n"
      ],
      "metadata": {
        "colab": {
          "base_uri": "https://localhost:8080/"
        },
        "id": "O3SHn4c2m30D",
        "outputId": "067322f6-a8c4-4cf2-cef7-96fe3532516a"
      },
      "execution_count": 188,
      "outputs": [
        {
          "output_type": "stream",
          "name": "stdout",
          "text": [
            "Document deleted successfully: {'responseHeader': {'status': 0, 'QTime': 324}}\n"
          ]
        }
      ]
    },
    {
      "cell_type": "code",
      "source": [],
      "metadata": {
        "id": "Dq1bhopOnBII"
      },
      "execution_count": null,
      "outputs": []
    }
  ]
}